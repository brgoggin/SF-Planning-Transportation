{
 "cells": [
  {
   "cell_type": "markdown",
   "metadata": {},
   "source": [
    "# Development Transportation Mitigation\n",
    "This notebook imports, cleans, and exports sample data on a series of developments from the SF Planning Department. These developments have a series of recommended transportation demand mitigation measures. This notebook imports, cleans, and exports this data for a web map in Javascript. "
   ]
  },
  {
   "cell_type": "markdown",
   "metadata": {},
   "source": [
    "# Import Data and Packages"
   ]
  },
  {
   "cell_type": "code",
   "execution_count": null,
   "metadata": {
    "collapsed": true
   },
   "outputs": [],
   "source": [
    "import pandas as pd\n",
    "import time\n",
    "from geopy.geocoders import GoogleV3 #google geocoding\n",
    "import requests  # library for accessing content from web URLs\n",
    "import json    # library for working with JSON-formatted text strings\n",
    "pd.set_option('display.max_row', 1000) #sets max rows to be seen\n",
    "pd.set_option('display.max_columns', 50) #Set max column width to 50"
   ]
  },
  {
   "cell_type": "code",
   "execution_count": null,
   "metadata": {
    "collapsed": true
   },
   "outputs": [],
   "source": [
    "import_file = \"Mapping.xlsx\"\n",
    "df = pd.read_excel(import_file)"
   ]
  },
  {
   "cell_type": "code",
   "execution_count": null,
   "metadata": {
    "collapsed": true
   },
   "outputs": [],
   "source": [
    "#keep rows that are actual addresses (i.e. nonmissing)\n",
    "df = df[df['PROJECT ADDRESS'].notnull()]"
   ]
  },
  {
   "cell_type": "code",
   "execution_count": null,
   "metadata": {
    "collapsed": true
   },
   "outputs": [],
   "source": [
    "#Create full address field for geocoding\n",
    "df['address'] = df['PROJECT ADDRESS'] + \", San Francisco, CA\""
   ]
  },
  {
   "cell_type": "markdown",
   "metadata": {},
   "source": [
    "# Geocoding"
   ]
  },
  {
   "cell_type": "code",
   "execution_count": null,
   "metadata": {
    "collapsed": true
   },
   "outputs": [],
   "source": [
    "# set the pause duration between api requests\n",
    "pause = 0.1"
   ]
  },
  {
   "cell_type": "code",
   "execution_count": null,
   "metadata": {
    "collapsed": true
   },
   "outputs": [],
   "source": [
    "# function that accepts an address string, sends it to the Google API, and returns the lat-long API result\n",
    "def geocode(address):\n",
    "    time.sleep(pause) #pause for some duration before each request, to not hammer their server\n",
    "    url = 'http://maps.googleapis.com/maps/api/geocode/json?address={}&sensor=false' #api url with placeholders\n",
    "    request = url.format(address) #fill in the placeholder with a variable\n",
    "    response = requests.get(request) #send the request to the server and get the response\n",
    "    data = response.json() #convert the response json string into a dict\n",
    "    \n",
    "    if len(data['results']) > 0: #if google was able to geolocate our address, extract lat-long from result\n",
    "        latitude = data['results'][0]['geometry']['location']['lat']\n",
    "        longitude = data['results'][0]['geometry']['location']['lng']\n",
    "        status = data['status'] #return geocode status\n",
    "        return '{},{},{}'.format(latitude, longitude, status) #return lat-long as a string in the format google likes"
   ]
  },
  {
   "cell_type": "code",
   "execution_count": null,
   "metadata": {
    "collapsed": false
   },
   "outputs": [],
   "source": [
    "# for each value in the address column, geocode it, save results as new df column\n",
    "start = time.time()\n",
    "df['latlng'] = df['address'].map(geocode)\n",
    "df['lat'] = df['latlng'].str.split(',').str[0]\n",
    "df['lon'] = df['latlng'].str.split(',').str[1]\n",
    "df['geocode_status'] = df['latlng'].str.split(',').str[2]\n",
    "end = time.time()\n",
    "print(end - start)"
   ]
  },
  {
   "cell_type": "code",
   "execution_count": null,
   "metadata": {
    "collapsed": true
   },
   "outputs": [],
   "source": [
    "#manually code two lat-lons that were not proper addresses\n",
    "df.loc[df['PROJECT ADDRESS'] == 'Pier 70 -Waterfront Site (Forest City)', 'lat'] = 37.759562\n",
    "df.loc[df['PROJECT ADDRESS'] == 'Pier 70 -Waterfront Site (Forest City)', 'lon'] = -122.382927\n",
    "df.loc[df['PROJECT ADDRESS'] == 'Crane Cove Park/19th Street Extension', 'lat'] = 37.762979\n",
    "df.loc[df['PROJECT ADDRESS'] == 'Crane Cove Park/19th Street Extension', 'lon'] = -122.386710"
   ]
  },
  {
   "cell_type": "markdown",
   "metadata": {},
   "source": [
    "# Cleaning before export"
   ]
  },
  {
   "cell_type": "code",
   "execution_count": null,
   "metadata": {
    "collapsed": true
   },
   "outputs": [],
   "source": [
    "#Manually clean up some columns\n",
    "df.loc[df['Consultant'] == 'Fehr&Peers', 'Consultant'] = 'Fehr & Peers'\n",
    "df.loc[df['Significant Impacts if any?'] == 'No ', 'Significant Impacts if any?'] = 'No'"
   ]
  },
  {
   "cell_type": "code",
   "execution_count": null,
   "metadata": {
    "collapsed": true
   },
   "outputs": [],
   "source": [
    "# Rename categories for easier manipulation in Javascript\n",
    "key = {'CASE #': 'case_number', 'PROJECT ADDRESS': 'Address', 'TIS/Circ Memo?': 'TIS_Circ_Memo', 'Significant Impacts if any?': 'sig_impacts', \n",
    "      'Recommended Mitigation Measures': 'mitigation_measures', 'Recommended Improvement Measures': 'improvement_measures', \n",
    "      'Recommended TDM Measures': 'TDM_measures'}\n",
    "df.rename(columns=key, inplace=True)"
   ]
  },
  {
   "cell_type": "code",
   "execution_count": null,
   "metadata": {
    "collapsed": true
   },
   "outputs": [],
   "source": [
    "#Clean NaNs in some variables for map\n",
    "list = ['mitigation_measures', 'improvement_measures', 'TDM_measures']\n",
    "for i in list: \n",
    "    df[i].fillna(\"None\", inplace = True)"
   ]
  },
  {
   "cell_type": "markdown",
   "metadata": {},
   "source": [
    "# Export to GeoJSON"
   ]
  },
  {
   "cell_type": "code",
   "execution_count": null,
   "metadata": {
    "collapsed": true
   },
   "outputs": [],
   "source": [
    "#write function for dataframe\n",
    "def df_to_geojson(df, properties, lat='latitude', lon='longitude'):\n",
    "    # create a new python dict to contain our geojson data, using geojson format\n",
    "    geojson = {'type':'FeatureCollection', 'features':[]}\n",
    "\n",
    "    # loop through each row in the dataframe and convert each row to geojson format\n",
    "    for _, row in df.iterrows():\n",
    "        # create a feature template to fill in\n",
    "        feature = {'type':'Feature',\n",
    "                   'properties':{},\n",
    "                   'geometry':{'type':'Point',\n",
    "                               'coordinates':[]}}\n",
    "\n",
    "        # fill in the coordinates\n",
    "        feature['geometry']['coordinates'] = [row[lon],row[lat]]\n",
    "\n",
    "        # for each column, get the value and add it as a new feature property\n",
    "        for prop in properties:\n",
    "            feature['properties'][prop] = row[prop]\n",
    "        \n",
    "        # add this feature (aka, converted dataframe row) to the list of features inside our dict\n",
    "        geojson['features'].append(feature)\n",
    "    \n",
    "    return geojson"
   ]
  },
  {
   "cell_type": "code",
   "execution_count": null,
   "metadata": {
    "collapsed": true
   },
   "outputs": [],
   "source": [
    "# get rid of unwanted columns and then write in GeoJSON format\n",
    "cols = ['case_number', 'Address', 'TIS_Circ_Memo', 'sig_impacts', 'Consultant', 'mitigation_measures', 'improvement_measures', 'TDM_measures', 'lat', \n",
    "       'lon']\n",
    "\n",
    "geojson = df_to_geojson(df, cols, 'lat', 'lon')"
   ]
  },
  {
   "cell_type": "code",
   "execution_count": null,
   "metadata": {
    "collapsed": false
   },
   "outputs": [],
   "source": [
    "# save the geojson result to a file\n",
    "output_filename = 'data.js'\n",
    "with open(output_filename, 'w') as output_file:\n",
    "    output_file.write('var dataset = {};'.format(json.dumps(geojson, indent=4)))"
   ]
  }
 ],
 "metadata": {
  "kernelspec": {
   "display_name": "Python [Root]",
   "language": "python",
   "name": "Python [Root]"
  },
  "language_info": {
   "codemirror_mode": {
    "name": "ipython",
    "version": 3
   },
   "file_extension": ".py",
   "mimetype": "text/x-python",
   "name": "python",
   "nbconvert_exporter": "python",
   "pygments_lexer": "ipython3",
   "version": "3.5.2"
  }
 },
 "nbformat": 4,
 "nbformat_minor": 0
}
